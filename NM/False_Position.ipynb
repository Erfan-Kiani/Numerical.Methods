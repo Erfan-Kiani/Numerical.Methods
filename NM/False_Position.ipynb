{
 "cells": [
  {
   "cell_type": "code",
   "execution_count": 1,
   "id": "4ad3c2f3",
   "metadata": {},
   "outputs": [
    {
     "name": "stdout",
     "output_type": "stream",
     "text": [
      "The roots are:\n",
      "0.2576276530497373\n",
      "\n",
      "Done\n"
     ]
    }
   ],
   "source": [
    "#False position Method\n",
    "\n",
    "import math\n",
    "from numpy import sign\n",
    "\n",
    "def rootsearch(f,a,b,dx):\n",
    "    x1 = a; f1 = f(a)\n",
    "    x2 = a + dx; f2 = f(x2)\n",
    "    while sign(f1) == sign(f2):\n",
    "        if x1 >= b: return None,None\n",
    "        x1 = x2; f1 = f2\n",
    "        x2 = x1 + dx; f2 = f(x2)\n",
    "    else:\n",
    "        return x1,x2\n",
    "\n",
    "def false_postion(f,x1,x2,switch=1,tol=1.0e-9):\n",
    "    f1 = f(x1)\n",
    "    if f1 == 0.0: return x1\n",
    "    f2 = f(x2)\n",
    "    if f2 == 0.0: return x2\n",
    "    if sign(f1) == sign(f2):\n",
    "        print('Root is not bracketed')\n",
    "    n = int(math.ceil(math.log(abs(x2 - x1)/tol)/math.log(2.0)))\n",
    "    \n",
    "    for i in range(n):\n",
    "        x3 = ((x1 * f(x2))- (x2 *f(x1)))/(f(x2)-f(x1)); f3 = f(x3)\n",
    "        if (switch == 1) and (abs(f3) > abs(f1)) \\\n",
    "                         and (abs(f3) > abs(f2)):\n",
    "            return None\n",
    "    if f3 == 0.0: return x3\n",
    "    if sign(f2)!= sign(f3): x1 = x3; f1 = f3\n",
    "    else: x2 = x3; f2 = f3\n",
    "    return (x1 * f(x2)- x2 *f(x1))/(f(x2)-f(x1))\n",
    "\n",
    "def f(x): return x**\n",
    "a,b,dx = (0, 1, 1e-4)\n",
    "print(\"The roots are:\")\n",
    "while True:\n",
    "    x1,x2 = rootsearch(f,a,b,dx)\n",
    "    if x1 != None:\n",
    "        a = x2\n",
    "        root = false_postion(f,x1,x2,1)\n",
    "        if root != None: print(root)\n",
    "    else:\n",
    "        print(\"\\nDone\")\n",
    "        break"
   ]
  },
  {
   "cell_type": "code",
   "execution_count": null,
   "id": "83381267",
   "metadata": {},
   "outputs": [],
   "source": []
  }
 ],
 "metadata": {
  "kernelspec": {
   "display_name": "Python 3 (ipykernel)",
   "language": "python",
   "name": "python3"
  },
  "language_info": {
   "codemirror_mode": {
    "name": "ipython",
    "version": 3
   },
   "file_extension": ".py",
   "mimetype": "text/x-python",
   "name": "python",
   "nbconvert_exporter": "python",
   "pygments_lexer": "ipython3",
   "version": "3.9.13"
  }
 },
 "nbformat": 4,
 "nbformat_minor": 5
}
