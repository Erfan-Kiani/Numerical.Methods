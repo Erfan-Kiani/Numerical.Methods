{
 "cells": [
  {
   "cell_type": "code",
   "execution_count": 16,
   "id": "530e0a57",
   "metadata": {},
   "outputs": [
    {
     "name": "stdout",
     "output_type": "stream",
     "text": [
      "7.0\n"
     ]
    }
   ],
   "source": [
    "import numpy as np\n",
    "\n",
    "def lagrange(x, y, xp):\n",
    "    yp = 0\n",
    "    n = len(x)\n",
    "    for i in range(n):\n",
    "        p = 1\n",
    "        for j in range(n):\n",
    "            if i != j:\n",
    "                p *= (xp - x[j])/(x[i] - x[j])\n",
    "        yp += y[i]*p\n",
    "    return yp\n",
    "\n",
    "x = np.array([-2, -1, 0,2])\n",
    "y = np.array([-9,2,-1,7])\n",
    "xp = 2\n",
    "\n",
    "print(lagrange(x, y, xp))"
   ]
  },
  {
   "cell_type": "code",
   "execution_count": null,
   "id": "709c16f3",
   "metadata": {},
   "outputs": [],
   "source": []
  }
 ],
 "metadata": {
  "kernelspec": {
   "display_name": "Python 3 (ipykernel)",
   "language": "python",
   "name": "python3"
  },
  "language_info": {
   "codemirror_mode": {
    "name": "ipython",
    "version": 3
   },
   "file_extension": ".py",
   "mimetype": "text/x-python",
   "name": "python",
   "nbconvert_exporter": "python",
   "pygments_lexer": "ipython3",
   "version": "3.9.13"
  }
 },
 "nbformat": 4,
 "nbformat_minor": 5
}
