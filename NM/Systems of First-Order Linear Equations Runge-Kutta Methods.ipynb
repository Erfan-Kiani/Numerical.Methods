{
 "cells": [
  {
   "cell_type": "code",
   "execution_count": 1,
   "id": "7320d3df",
   "metadata": {},
   "outputs": [
    {
     "name": "stdout",
     "output_type": "stream",
     "text": [
      "Answer Eqution is: (0.9800798460775726, -0.19840521163212743)\n"
     ]
    }
   ],
   "source": [
    "# Systems of First-Order Linear Equations Runge-Kutta Methods\n",
    "\n",
    "import numpy as np\n",
    "import matplotlib.pyplot as plt\n",
    "\n",
    "def f1(x, y,p):\n",
    "    return p\n",
    "\n",
    "def f2(x,y, p):\n",
    "    return -y+0.1*(1-y**2)\n",
    "\n",
    "def rk4(f1,f2, x0, y0 , p0, x1, n):\n",
    "    h = (x1 - x0) / float(n)\n",
    "    xi = x0\n",
    "    yi = y0\n",
    "    pi = p0\n",
    "\n",
    "    for i in range(n):\n",
    "        k1 = h * f1(xi, yi, pi)\n",
    "        l1 = h * f2(xi, yi, pi)\n",
    "        \n",
    "        k2 = h * f1(xi + 0.5*h, yi + 0.5*k1, pi+ 0.5*l1)\n",
    "        l2 = h * f2(xi + 0.5*h, yi + 0.5*k1, pi+ 0.5*l1)\n",
    "        \n",
    "        k3 = h * f1(xi + 0.5*h, yi + 0.5*k2, pi+ 0.5*l2)\n",
    "        l3 = h * f2(xi + 0.5*h, yi + 0.5*k2, pi+ 0.5*l2)\n",
    "        \n",
    "        k4 = h * f1(xi + h, yi + k3, pi + l3)\n",
    "        l4 = h * f2(xi + h, yi + k3, pi + l3)\n",
    "\n",
    "        yi += (k1 + 2*k2 + 2*k3 + k4) / 6.0\n",
    "        pi += (l1 + 2*l2 + 2*l3 + l4) / 6.0\n",
    "        xi += h\n",
    "    return yi , pi\n",
    "\n",
    "print(\"Answer Eqution is:\", rk4(f1,f2, 0, 1, 0,0.2, 2))\n",
    "\n"
   ]
  },
  {
   "cell_type": "code",
   "execution_count": null,
   "id": "7a89c43d",
   "metadata": {},
   "outputs": [],
   "source": []
  }
 ],
 "metadata": {
  "kernelspec": {
   "display_name": "Python 3 (ipykernel)",
   "language": "python",
   "name": "python3"
  },
  "language_info": {
   "codemirror_mode": {
    "name": "ipython",
    "version": 3
   },
   "file_extension": ".py",
   "mimetype": "text/x-python",
   "name": "python",
   "nbconvert_exporter": "python",
   "pygments_lexer": "ipython3",
   "version": "3.9.13"
  }
 },
 "nbformat": 4,
 "nbformat_minor": 5
}
