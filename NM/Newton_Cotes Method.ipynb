{
 "cells": [
  {
   "cell_type": "code",
   "execution_count": 12,
   "id": "a7e249f5",
   "metadata": {},
   "outputs": [
    {
     "name": "stdout",
     "output_type": "stream",
     "text": [
      "1 Sloution Is: 1.3591409142295225\n",
      "1 Error Of Sloution Is: 0.35797091422952265\n",
      "2 Sloution Is: 1.0026207283098836\n",
      "2 Error Of Sloution Is: 0.0014507283098836865\n",
      "3 Sloution Is: 1.0011702919568108\n",
      "3 Error Of Sloution Is: 2.9195681094940085e-07\n"
     ]
    }
   ],
   "source": [
    "#Newton_Cotes Method\n",
    "\n",
    "from scipy.integrate import newton_cotes\n",
    "import numpy as np\n",
    "\n",
    "def f(x):\n",
    "    return x * np.exp(x)\n",
    "\n",
    "a = 0\n",
    "b = 1\n",
    "exact = 1.00117\n",
    "\n",
    "for N in range(1,4):\n",
    "    x = np.linspace(a, b, N + 1)\n",
    "    an, B = newton_cotes(N, 1)\n",
    "    dx = (b - a) / N\n",
    "    quad = dx * np.sum(an * f(x))\n",
    "    error = abs(quad - exact)\n",
    "    print(N,\"Sloution Is:\", quad)\n",
    "    print(N,\"Error Of Sloution Is:\",error)"
   ]
  },
  {
   "cell_type": "code",
   "execution_count": null,
   "id": "a010050a",
   "metadata": {},
   "outputs": [],
   "source": []
  }
 ],
 "metadata": {
  "kernelspec": {
   "display_name": "Python 3 (ipykernel)",
   "language": "python",
   "name": "python3"
  },
  "language_info": {
   "codemirror_mode": {
    "name": "ipython",
    "version": 3
   },
   "file_extension": ".py",
   "mimetype": "text/x-python",
   "name": "python",
   "nbconvert_exporter": "python",
   "pygments_lexer": "ipython3",
   "version": "3.9.13"
  }
 },
 "nbformat": 4,
 "nbformat_minor": 5
}
