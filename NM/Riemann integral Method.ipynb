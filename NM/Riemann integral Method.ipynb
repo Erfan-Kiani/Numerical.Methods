{
 "cells": [
  {
   "cell_type": "code",
   "execution_count": 6,
   "id": "cc5acb1a",
   "metadata": {},
   "outputs": [
    {
     "name": "stdout",
     "output_type": "stream",
     "text": [
      "Left Side Is: 0.8284322898876372\n",
      "Error Of Left Side Is: -0.15243228988763713\n",
      "Right Side Is: 0.6064693405625484\n",
      "Error Of Right Side Is: 0.06953065943745163\n",
      "Mide Side Is: 0.7047270662539218\n",
      "Error Of Mide Side Is: -0.02872706625392174\n"
     ]
    }
   ],
   "source": [
    "#Riemann integral Method\n",
    "\n",
    "import numpy as np\n",
    "\n",
    "a = 0.2\n",
    "b = 5\n",
    "n = 10\n",
    "h = (b - a) / (n - 1)\n",
    "x = np.linspace(a, b, n)\n",
    "f = (x-1)**2/np.exp(x)\n",
    "\n",
    "I_riemannL = h * sum(f[:n-1])\n",
    "err_riemannL = 0.676 - I_riemannL\n",
    "\n",
    "I_riemannR = h * sum(f[1::])\n",
    "err_riemannR = 0.676 - I_riemannR\n",
    "\n",
    "I_mid = h * sum(((x[:n-1]+x[1:])-1)/np.exp(x[:n-1]+x[1:])/2)\n",
    "\n",
    "I_mid = h * sum(np.sin((x[:n-1] + x[1:])/2))\n",
    "err_mid = 0.676 - I_mid\n",
    "\n",
    "print(\"Left Side Is:\",I_riemannL)\n",
    "print(\"Error Of Left Side Is:\",err_riemannL)\n",
    "print(\"Right Side Is:\",I_riemannR)\n",
    "print(\"Error Of Right Side Is:\",err_riemannR)\n",
    "print(\"Mide Side Is:\",I_mid)\n",
    "print(\"Error Of Mide Side Is:\",err_mid)"
   ]
  },
  {
   "cell_type": "code",
   "execution_count": null,
   "id": "411b8b96",
   "metadata": {},
   "outputs": [],
   "source": []
  }
 ],
 "metadata": {
  "kernelspec": {
   "display_name": "Python 3 (ipykernel)",
   "language": "python",
   "name": "python3"
  },
  "language_info": {
   "codemirror_mode": {
    "name": "ipython",
    "version": 3
   },
   "file_extension": ".py",
   "mimetype": "text/x-python",
   "name": "python",
   "nbconvert_exporter": "python",
   "pygments_lexer": "ipython3",
   "version": "3.9.13"
  }
 },
 "nbformat": 4,
 "nbformat_minor": 5
}
