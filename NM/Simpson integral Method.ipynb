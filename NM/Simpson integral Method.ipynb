{
 "cells": [
  {
   "cell_type": "code",
   "execution_count": 35,
   "id": "a66df9c1",
   "metadata": {},
   "outputs": [
    {
     "name": "stdout",
     "output_type": "stream",
     "text": [
      "Simpson integral Is: 0.308844459249449\n",
      "ESimpson integral Is: 0.01215554075055103\n"
     ]
    }
   ],
   "source": [
    "#Simpson integral Method\n",
    "\n",
    "import numpy as np\n",
    "a = 1\n",
    "b = 1.3\n",
    "# n = 2n\n",
    "n = 12\n",
    "h = (b - a) / (n - 1)\n",
    "x = np.linspace(a, b, n)\n",
    "f = np.sqrt(x)\n",
    "\n",
    "I_simp = (h/3) * (f[0] + 2*sum(f[:n-2:2]) + 4*sum(f[1:n-1:2]) + f[n-1])\n",
    "err_simp = 0.321 - I_simp\n",
    "\n",
    "print(\"Simpson integral Is:\",I_simp)\n",
    "print(\"ESimpson integral Is:\",err_simp)"
   ]
  },
  {
   "cell_type": "code",
   "execution_count": null,
   "id": "53a23e3a",
   "metadata": {},
   "outputs": [],
   "source": []
  }
 ],
 "metadata": {
  "kernelspec": {
   "display_name": "Python 3 (ipykernel)",
   "language": "python",
   "name": "python3"
  },
  "language_info": {
   "codemirror_mode": {
    "name": "ipython",
    "version": 3
   },
   "file_extension": ".py",
   "mimetype": "text/x-python",
   "name": "python",
   "nbconvert_exporter": "python",
   "pygments_lexer": "ipython3",
   "version": "3.9.13"
  }
 },
 "nbformat": 4,
 "nbformat_minor": 5
}
