{
 "cells": [
  {
   "cell_type": "code",
   "execution_count": 14,
   "id": "ad4ff40b",
   "metadata": {},
   "outputs": [
    {
     "name": "stdout",
     "output_type": "stream",
     "text": [
      "Root = 8.899663675439301e-24\n",
      "Number of iterations = 5\n"
     ]
    }
   ],
   "source": [
    "#NewtonRaphson Method\n",
    "\n",
    "import math\n",
    "\n",
    "def newtonRaphson(f,df,a,b,tol=1.0e-9):\n",
    "    from numpy import sign\n",
    "    fa = f(a)\n",
    "    if fa == 0.0: return a\n",
    "    fb = f(b)\n",
    "    if fb == 0.0: return b\n",
    "    if sign(fa) == sign(fb): print('Root is not bracketed')\n",
    "    x = 0.5*(a + b)\n",
    "    for i in range(30):\n",
    "        fx = f(x)\n",
    "        if fx == 0.0: return x\n",
    "        if sign(fa) != sign(fx): b = x\n",
    "        else: a = x\n",
    "            \n",
    "    dfx = df(x)\n",
    "    try: dx = -fx/dfx\n",
    "    except ZeroDivisionError: dx = b - a\n",
    "    x = x + dx\n",
    "    if (b - x)*(x - a) < 0.0:\n",
    "        dx = 0.5*(b - a)\n",
    "        x = a + dx\n",
    "        if abs(dx) < tol*max(abs(b),1.0): return x\n",
    "    print('Too many iterations in Newton-Raphson')\n",
    "    \n",
    "def f(x): return 3*math.exp(x)-1/x\n",
    "def df(x): return 3*math.exp(x)-1/(x**2)\n",
    "def newtonRaphson(x,tol=1.0e-9):\n",
    "    for i in range(10):\n",
    "        dx = -f(x)/df(x)\n",
    "        x = x + dx\n",
    "        if abs(dx) < tol: return x,i\n",
    "    print ('Too many iterations\\n')\n",
    "    \n",
    "root,numIter = newtonRaphson(2.0)\n",
    "print ('Root =',root)\n",
    "print ('Number of iterations =',numIter)"
   ]
  },
  {
   "cell_type": "code",
   "execution_count": null,
   "id": "50710b9d",
   "metadata": {},
   "outputs": [],
   "source": []
  }
 ],
 "metadata": {
  "kernelspec": {
   "display_name": "Python 3 (ipykernel)",
   "language": "python",
   "name": "python3"
  },
  "language_info": {
   "codemirror_mode": {
    "name": "ipython",
    "version": 3
   },
   "file_extension": ".py",
   "mimetype": "text/x-python",
   "name": "python",
   "nbconvert_exporter": "python",
   "pygments_lexer": "ipython3",
   "version": "3.9.13"
  }
 },
 "nbformat": 4,
 "nbformat_minor": 5
}
