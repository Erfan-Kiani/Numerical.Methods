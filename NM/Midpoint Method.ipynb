{
 "cells": [
  {
   "cell_type": "code",
   "execution_count": 1,
   "id": "a48cf841",
   "metadata": {},
   "outputs": [
    {
     "name": "stdout",
     "output_type": "stream",
     "text": [
      "The approximate value of the first integral is: 3.103337430107574\n"
     ]
    }
   ],
   "source": [
    "#Midpoint Method\n",
    "\n",
    "import math\n",
    "\n",
    "def f(x):\n",
    "    return \n",
    "\n",
    "\n",
    "import math\n",
    "\n",
    "def f(x):\n",
    "    return 1/math.sqrt(25-x**2)\n",
    "\n",
    "a = -5\n",
    "b = 5\n",
    "n = 1000\n",
    "h = (b - a) / n\n",
    "sum = 0\n",
    "\n",
    "for i in range(n):\n",
    "    y_i = a + (i + 0.5) * h\n",
    "    sum += h * f(y_i)\n",
    "\n",
    "print(\"The approximate value of the first integral is:\", sum)\n"
   ]
  },
  {
   "cell_type": "code",
   "execution_count": null,
   "id": "09b76b66",
   "metadata": {},
   "outputs": [],
   "source": []
  }
 ],
 "metadata": {
  "kernelspec": {
   "display_name": "Python 3 (ipykernel)",
   "language": "python",
   "name": "python3"
  },
  "language_info": {
   "codemirror_mode": {
    "name": "ipython",
    "version": 3
   },
   "file_extension": ".py",
   "mimetype": "text/x-python",
   "name": "python",
   "nbconvert_exporter": "python",
   "pygments_lexer": "ipython3",
   "version": "3.9.13"
  }
 },
 "nbformat": 4,
 "nbformat_minor": 5
}
